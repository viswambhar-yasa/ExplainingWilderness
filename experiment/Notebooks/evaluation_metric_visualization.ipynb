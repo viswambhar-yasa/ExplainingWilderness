{
 "cells": [
  {
   "cell_type": "code",
   "execution_count": 20,
   "metadata": {},
   "outputs": [],
   "source": [
    "import os\n",
    "import sys\n",
    "import pandas as pd\n",
    "from pathlib import Path\n",
    "import plotly.express as px\n",
    "import plotly.graph_objects as go"
   ]
  },
  {
   "cell_type": "code",
   "execution_count": 21,
   "metadata": {},
   "outputs": [],
   "source": [
    "notebook_directory = Path().resolve().parent\n",
    "sys.path.insert(0,str(notebook_directory.parent))\n",
    "\n",
    "from experiment.helper_functions import load_dict"
   ]
  },
  {
   "cell_type": "code",
   "execution_count": 22,
   "metadata": {},
   "outputs": [],
   "source": [
    "saved_path=r\"D:/finaldraft/ExplainingWilderness/experiment/Notebooks/temp\"\n",
    "filename=\"_evaluation_metric_dict.pkl\"\n",
    "modeltype=\"resnet18\"\n",
    "evaluation_metric=load_dict(os.path.join(saved_path,modeltype+filename))"
   ]
  },
  {
   "cell_type": "code",
   "execution_count": 23,
   "metadata": {},
   "outputs": [
    {
     "name": "stdout",
     "output_type": "stream",
     "text": [
      "{'IntergratedGradients': {'Robustness': 1.409381634183228, 'Faithfulness': 0.102183750136015, 'Complexity': 0.5607855494787594, 'Randomisation': 0.9389847326975578}, 'GradientShap': {'Robustness': 1.456339622940868, 'Faithfulness': 0.08903637309467224, 'Complexity': 0.5550686898688847, 'Randomisation': 0.7393987459994389}, 'GuidedGradCam': {'Robustness': 1.281200789194554, 'Faithfulness': 0.04777327427486408, 'Complexity': 0.7210471037631223, 'Randomisation': 0.7955206880423944}, 'LRP': {'Robustness': 24.94312889687717, 'Faithfulness': 0.1515888389167987, 'Complexity': 0.5492273203079003, 'Randomisation': 0.987188370056814}, 'CRP': {'Robustness': 4.835530694387853, 'Faithfulness': 0.12057726967603517, 'Complexity': 0.5524042031634515, 'Randomisation': 0.9999980712863398}, 'Occulsion': {'Robustness': 1.1789262627949937, 'Faithfulness': 0.09922280747262471, 'Complexity': 0.4032791718354568, 'Randomisation': 0.9134619564212294}}\n"
     ]
    }
   ],
   "source": [
    "print(evaluation_metric)"
   ]
  },
  {
   "cell_type": "code",
   "execution_count": 24,
   "metadata": {},
   "outputs": [],
   "source": [
    "def hex_to_rgba(hex_color, alpha):\n",
    "    hex_color = hex_color.lstrip('#')\n",
    "    hlen = len(hex_color)\n",
    "    return 'rgba(' + ', '.join(str(int(hex_color[i:i+hlen//3], 16)) for i in range(0, hlen, hlen//3)) + f', {alpha})'"
   ]
  },
  {
   "cell_type": "code",
   "execution_count": 25,
   "metadata": {},
   "outputs": [
    {
     "name": "stdout",
     "output_type": "stream",
     "text": [
      "                      Robustness  Faithfulness  Complexity  Randomisation\n",
      "IntergratedGradients    1.409382      0.102184    0.560786       0.938985\n",
      "GradientShap            1.456340      0.089036    0.555069       0.739399\n",
      "GuidedGradCam           1.281201      0.047773    0.721047       0.795521\n",
      "LRP                    24.943129      0.151589    0.549227       0.987188\n",
      "CRP                     4.835531      0.120577    0.552404       0.999998\n",
      "Occulsion               1.178926      0.099223    0.403279       0.913462\n"
     ]
    }
   ],
   "source": [
    "df = pd.DataFrame.from_dict(evaluation_metric)\n",
    "df = df.T.abs()\n",
    "print(df)"
   ]
  },
  {
   "cell_type": "code",
   "execution_count": 26,
   "metadata": {},
   "outputs": [
    {
     "name": "stdout",
     "output_type": "stream",
     "text": [
      "                      Robustness  Faithfulness  Complexity  Randomisation\n",
      "IntergratedGradients         3.0           3.0         5.0            3.0\n",
      "GradientShap                 4.0           5.0         4.0            6.0\n",
      "GuidedGradCam                2.0           6.0         6.0            5.0\n",
      "LRP                          6.0           1.0         2.0            2.0\n",
      "CRP                          5.0           2.0         3.0            1.0\n",
      "Occulsion                    1.0           4.0         1.0            4.0\n"
     ]
    }
   ],
   "source": [
    "# Take inverse ranking for Robustness, since lower is better.\n",
    "df_normalised_rank = df.copy()\n",
    "df_normalised_rank['Robustness'] = df['Robustness'].rank(ascending=True)\n",
    "df_normalised_rank['Faithfulness'] = df['Faithfulness'].rank(ascending=False)\n",
    "df_normalised_rank['Complexity'] = df['Complexity'].rank(ascending=True)\n",
    "df_normalised_rank['Randomisation'] = df['Randomisation'].rank(ascending=False)\n",
    "print(df_normalised_rank)"
   ]
  },
  {
   "cell_type": "code",
   "execution_count": 27,
   "metadata": {},
   "outputs": [
    {
     "name": "stderr",
     "output_type": "stream",
     "text": [
      "C:\\Users\\VISWAMBHAR YASA\\AppData\\Local\\Temp\\ipykernel_2392\\4007647761.py:13: FutureWarning:\n",
      "\n",
      "Series.__getitem__ treating keys as positions is deprecated. In a future version, integer keys will always be treated as labels (consistent with DataFrame behavior). To access a value by position, use `ser.iloc[pos]`\n",
      "\n"
     ]
    },
    {
     "data": {
      "application/vnd.plotly.v1+json": {
       "config": {
        "plotlyServerURL": "https://plot.ly"
       },
       "data": [
        {
         "fill": "toself",
         "fillcolor": "rgba(99, 110, 250, 0.05)",
         "line": {
          "color": "#636EFA",
          "width": 3
         },
         "marker": {
          "color": "#636EFA",
          "size": 10,
          "symbol": "circle"
         },
         "name": "IntergratedGradients",
         "r": [
          3,
          3,
          5,
          3,
          3
         ],
         "theta": [
          "Robustness",
          "Faithfulness",
          "Complexity",
          "Randomisation",
          "Robustness"
         ],
         "type": "scatterpolar"
        },
        {
         "fill": "toself",
         "fillcolor": "rgba(239, 85, 59, 0.05)",
         "line": {
          "color": "#EF553B",
          "width": 3
         },
         "marker": {
          "color": "#EF553B",
          "size": 10,
          "symbol": "square"
         },
         "name": "GradientShap",
         "r": [
          4,
          5,
          4,
          6,
          4
         ],
         "theta": [
          "Robustness",
          "Faithfulness",
          "Complexity",
          "Randomisation",
          "Robustness"
         ],
         "type": "scatterpolar"
        },
        {
         "fill": "toself",
         "fillcolor": "rgba(0, 204, 150, 0.05)",
         "line": {
          "color": "#00CC96",
          "width": 3
         },
         "marker": {
          "color": "#00CC96",
          "size": 10,
          "symbol": "diamond"
         },
         "name": "GuidedGradCam",
         "r": [
          2,
          6,
          6,
          5,
          2
         ],
         "theta": [
          "Robustness",
          "Faithfulness",
          "Complexity",
          "Randomisation",
          "Robustness"
         ],
         "type": "scatterpolar"
        },
        {
         "fill": "toself",
         "fillcolor": "rgba(171, 99, 250, 0.05)",
         "line": {
          "color": "#AB63FA",
          "width": 3
         },
         "marker": {
          "color": "#AB63FA",
          "size": 10,
          "symbol": "cross"
         },
         "name": "LRP",
         "r": [
          6,
          1,
          2,
          2,
          6
         ],
         "theta": [
          "Robustness",
          "Faithfulness",
          "Complexity",
          "Randomisation",
          "Robustness"
         ],
         "type": "scatterpolar"
        },
        {
         "fill": "toself",
         "fillcolor": "rgba(255, 161, 90, 0.05)",
         "line": {
          "color": "#FFA15A",
          "width": 3
         },
         "marker": {
          "color": "#FFA15A",
          "size": 10,
          "symbol": "x"
         },
         "name": "CRP",
         "r": [
          5,
          2,
          3,
          1,
          5
         ],
         "theta": [
          "Robustness",
          "Faithfulness",
          "Complexity",
          "Randomisation",
          "Robustness"
         ],
         "type": "scatterpolar"
        },
        {
         "fill": "toself",
         "fillcolor": "rgba(25, 211, 243, 0.05)",
         "line": {
          "color": "#19D3F3",
          "width": 3
         },
         "marker": {
          "color": "#19D3F3",
          "size": 10,
          "symbol": "triangle-up"
         },
         "name": "Occulsion",
         "r": [
          1,
          4,
          1,
          4,
          1
         ],
         "theta": [
          "Robustness",
          "Faithfulness",
          "Complexity",
          "Randomisation",
          "Robustness"
         ],
         "type": "scatterpolar"
        }
       ],
       "layout": {
        "font": {
         "color": "white"
        },
        "height": 500,
        "legend": {
         "orientation": "h",
         "x": 0.5,
         "xanchor": "center",
         "y": -0.25,
         "yanchor": "bottom"
        },
        "paper_bgcolor": "black",
        "polar": {
         "angularaxis": {
          "gridcolor": "white",
          "linecolor": "white"
         },
         "radialaxis": {
          "color": "grey",
          "gridcolor": "grey",
          "linecolor": "grey",
          "range": [
           0,
           6.6
          ],
          "visible": true
         }
        },
        "showlegend": true,
        "template": {
         "data": {
          "bar": [
           {
            "error_x": {
             "color": "#2a3f5f"
            },
            "error_y": {
             "color": "#2a3f5f"
            },
            "marker": {
             "line": {
              "color": "#E5ECF6",
              "width": 0.5
             },
             "pattern": {
              "fillmode": "overlay",
              "size": 10,
              "solidity": 0.2
             }
            },
            "type": "bar"
           }
          ],
          "barpolar": [
           {
            "marker": {
             "line": {
              "color": "#E5ECF6",
              "width": 0.5
             },
             "pattern": {
              "fillmode": "overlay",
              "size": 10,
              "solidity": 0.2
             }
            },
            "type": "barpolar"
           }
          ],
          "carpet": [
           {
            "aaxis": {
             "endlinecolor": "#2a3f5f",
             "gridcolor": "white",
             "linecolor": "white",
             "minorgridcolor": "white",
             "startlinecolor": "#2a3f5f"
            },
            "baxis": {
             "endlinecolor": "#2a3f5f",
             "gridcolor": "white",
             "linecolor": "white",
             "minorgridcolor": "white",
             "startlinecolor": "#2a3f5f"
            },
            "type": "carpet"
           }
          ],
          "choropleth": [
           {
            "colorbar": {
             "outlinewidth": 0,
             "ticks": ""
            },
            "type": "choropleth"
           }
          ],
          "contour": [
           {
            "colorbar": {
             "outlinewidth": 0,
             "ticks": ""
            },
            "colorscale": [
             [
              0,
              "#0d0887"
             ],
             [
              0.1111111111111111,
              "#46039f"
             ],
             [
              0.2222222222222222,
              "#7201a8"
             ],
             [
              0.3333333333333333,
              "#9c179e"
             ],
             [
              0.4444444444444444,
              "#bd3786"
             ],
             [
              0.5555555555555556,
              "#d8576b"
             ],
             [
              0.6666666666666666,
              "#ed7953"
             ],
             [
              0.7777777777777778,
              "#fb9f3a"
             ],
             [
              0.8888888888888888,
              "#fdca26"
             ],
             [
              1,
              "#f0f921"
             ]
            ],
            "type": "contour"
           }
          ],
          "contourcarpet": [
           {
            "colorbar": {
             "outlinewidth": 0,
             "ticks": ""
            },
            "type": "contourcarpet"
           }
          ],
          "heatmap": [
           {
            "colorbar": {
             "outlinewidth": 0,
             "ticks": ""
            },
            "colorscale": [
             [
              0,
              "#0d0887"
             ],
             [
              0.1111111111111111,
              "#46039f"
             ],
             [
              0.2222222222222222,
              "#7201a8"
             ],
             [
              0.3333333333333333,
              "#9c179e"
             ],
             [
              0.4444444444444444,
              "#bd3786"
             ],
             [
              0.5555555555555556,
              "#d8576b"
             ],
             [
              0.6666666666666666,
              "#ed7953"
             ],
             [
              0.7777777777777778,
              "#fb9f3a"
             ],
             [
              0.8888888888888888,
              "#fdca26"
             ],
             [
              1,
              "#f0f921"
             ]
            ],
            "type": "heatmap"
           }
          ],
          "heatmapgl": [
           {
            "colorbar": {
             "outlinewidth": 0,
             "ticks": ""
            },
            "colorscale": [
             [
              0,
              "#0d0887"
             ],
             [
              0.1111111111111111,
              "#46039f"
             ],
             [
              0.2222222222222222,
              "#7201a8"
             ],
             [
              0.3333333333333333,
              "#9c179e"
             ],
             [
              0.4444444444444444,
              "#bd3786"
             ],
             [
              0.5555555555555556,
              "#d8576b"
             ],
             [
              0.6666666666666666,
              "#ed7953"
             ],
             [
              0.7777777777777778,
              "#fb9f3a"
             ],
             [
              0.8888888888888888,
              "#fdca26"
             ],
             [
              1,
              "#f0f921"
             ]
            ],
            "type": "heatmapgl"
           }
          ],
          "histogram": [
           {
            "marker": {
             "pattern": {
              "fillmode": "overlay",
              "size": 10,
              "solidity": 0.2
             }
            },
            "type": "histogram"
           }
          ],
          "histogram2d": [
           {
            "colorbar": {
             "outlinewidth": 0,
             "ticks": ""
            },
            "colorscale": [
             [
              0,
              "#0d0887"
             ],
             [
              0.1111111111111111,
              "#46039f"
             ],
             [
              0.2222222222222222,
              "#7201a8"
             ],
             [
              0.3333333333333333,
              "#9c179e"
             ],
             [
              0.4444444444444444,
              "#bd3786"
             ],
             [
              0.5555555555555556,
              "#d8576b"
             ],
             [
              0.6666666666666666,
              "#ed7953"
             ],
             [
              0.7777777777777778,
              "#fb9f3a"
             ],
             [
              0.8888888888888888,
              "#fdca26"
             ],
             [
              1,
              "#f0f921"
             ]
            ],
            "type": "histogram2d"
           }
          ],
          "histogram2dcontour": [
           {
            "colorbar": {
             "outlinewidth": 0,
             "ticks": ""
            },
            "colorscale": [
             [
              0,
              "#0d0887"
             ],
             [
              0.1111111111111111,
              "#46039f"
             ],
             [
              0.2222222222222222,
              "#7201a8"
             ],
             [
              0.3333333333333333,
              "#9c179e"
             ],
             [
              0.4444444444444444,
              "#bd3786"
             ],
             [
              0.5555555555555556,
              "#d8576b"
             ],
             [
              0.6666666666666666,
              "#ed7953"
             ],
             [
              0.7777777777777778,
              "#fb9f3a"
             ],
             [
              0.8888888888888888,
              "#fdca26"
             ],
             [
              1,
              "#f0f921"
             ]
            ],
            "type": "histogram2dcontour"
           }
          ],
          "mesh3d": [
           {
            "colorbar": {
             "outlinewidth": 0,
             "ticks": ""
            },
            "type": "mesh3d"
           }
          ],
          "parcoords": [
           {
            "line": {
             "colorbar": {
              "outlinewidth": 0,
              "ticks": ""
             }
            },
            "type": "parcoords"
           }
          ],
          "pie": [
           {
            "automargin": true,
            "type": "pie"
           }
          ],
          "scatter": [
           {
            "fillpattern": {
             "fillmode": "overlay",
             "size": 10,
             "solidity": 0.2
            },
            "type": "scatter"
           }
          ],
          "scatter3d": [
           {
            "line": {
             "colorbar": {
              "outlinewidth": 0,
              "ticks": ""
             }
            },
            "marker": {
             "colorbar": {
              "outlinewidth": 0,
              "ticks": ""
             }
            },
            "type": "scatter3d"
           }
          ],
          "scattercarpet": [
           {
            "marker": {
             "colorbar": {
              "outlinewidth": 0,
              "ticks": ""
             }
            },
            "type": "scattercarpet"
           }
          ],
          "scattergeo": [
           {
            "marker": {
             "colorbar": {
              "outlinewidth": 0,
              "ticks": ""
             }
            },
            "type": "scattergeo"
           }
          ],
          "scattergl": [
           {
            "marker": {
             "colorbar": {
              "outlinewidth": 0,
              "ticks": ""
             }
            },
            "type": "scattergl"
           }
          ],
          "scattermapbox": [
           {
            "marker": {
             "colorbar": {
              "outlinewidth": 0,
              "ticks": ""
             }
            },
            "type": "scattermapbox"
           }
          ],
          "scatterpolar": [
           {
            "marker": {
             "colorbar": {
              "outlinewidth": 0,
              "ticks": ""
             }
            },
            "type": "scatterpolar"
           }
          ],
          "scatterpolargl": [
           {
            "marker": {
             "colorbar": {
              "outlinewidth": 0,
              "ticks": ""
             }
            },
            "type": "scatterpolargl"
           }
          ],
          "scatterternary": [
           {
            "marker": {
             "colorbar": {
              "outlinewidth": 0,
              "ticks": ""
             }
            },
            "type": "scatterternary"
           }
          ],
          "surface": [
           {
            "colorbar": {
             "outlinewidth": 0,
             "ticks": ""
            },
            "colorscale": [
             [
              0,
              "#0d0887"
             ],
             [
              0.1111111111111111,
              "#46039f"
             ],
             [
              0.2222222222222222,
              "#7201a8"
             ],
             [
              0.3333333333333333,
              "#9c179e"
             ],
             [
              0.4444444444444444,
              "#bd3786"
             ],
             [
              0.5555555555555556,
              "#d8576b"
             ],
             [
              0.6666666666666666,
              "#ed7953"
             ],
             [
              0.7777777777777778,
              "#fb9f3a"
             ],
             [
              0.8888888888888888,
              "#fdca26"
             ],
             [
              1,
              "#f0f921"
             ]
            ],
            "type": "surface"
           }
          ],
          "table": [
           {
            "cells": {
             "fill": {
              "color": "#EBF0F8"
             },
             "line": {
              "color": "white"
             }
            },
            "header": {
             "fill": {
              "color": "#C8D4E3"
             },
             "line": {
              "color": "white"
             }
            },
            "type": "table"
           }
          ]
         },
         "layout": {
          "annotationdefaults": {
           "arrowcolor": "#2a3f5f",
           "arrowhead": 0,
           "arrowwidth": 1
          },
          "autotypenumbers": "strict",
          "coloraxis": {
           "colorbar": {
            "outlinewidth": 0,
            "ticks": ""
           }
          },
          "colorscale": {
           "diverging": [
            [
             0,
             "#8e0152"
            ],
            [
             0.1,
             "#c51b7d"
            ],
            [
             0.2,
             "#de77ae"
            ],
            [
             0.3,
             "#f1b6da"
            ],
            [
             0.4,
             "#fde0ef"
            ],
            [
             0.5,
             "#f7f7f7"
            ],
            [
             0.6,
             "#e6f5d0"
            ],
            [
             0.7,
             "#b8e186"
            ],
            [
             0.8,
             "#7fbc41"
            ],
            [
             0.9,
             "#4d9221"
            ],
            [
             1,
             "#276419"
            ]
           ],
           "sequential": [
            [
             0,
             "#0d0887"
            ],
            [
             0.1111111111111111,
             "#46039f"
            ],
            [
             0.2222222222222222,
             "#7201a8"
            ],
            [
             0.3333333333333333,
             "#9c179e"
            ],
            [
             0.4444444444444444,
             "#bd3786"
            ],
            [
             0.5555555555555556,
             "#d8576b"
            ],
            [
             0.6666666666666666,
             "#ed7953"
            ],
            [
             0.7777777777777778,
             "#fb9f3a"
            ],
            [
             0.8888888888888888,
             "#fdca26"
            ],
            [
             1,
             "#f0f921"
            ]
           ],
           "sequentialminus": [
            [
             0,
             "#0d0887"
            ],
            [
             0.1111111111111111,
             "#46039f"
            ],
            [
             0.2222222222222222,
             "#7201a8"
            ],
            [
             0.3333333333333333,
             "#9c179e"
            ],
            [
             0.4444444444444444,
             "#bd3786"
            ],
            [
             0.5555555555555556,
             "#d8576b"
            ],
            [
             0.6666666666666666,
             "#ed7953"
            ],
            [
             0.7777777777777778,
             "#fb9f3a"
            ],
            [
             0.8888888888888888,
             "#fdca26"
            ],
            [
             1,
             "#f0f921"
            ]
           ]
          },
          "colorway": [
           "#636efa",
           "#EF553B",
           "#00cc96",
           "#ab63fa",
           "#FFA15A",
           "#19d3f3",
           "#FF6692",
           "#B6E880",
           "#FF97FF",
           "#FECB52"
          ],
          "font": {
           "color": "#2a3f5f"
          },
          "geo": {
           "bgcolor": "white",
           "lakecolor": "white",
           "landcolor": "#E5ECF6",
           "showlakes": true,
           "showland": true,
           "subunitcolor": "white"
          },
          "hoverlabel": {
           "align": "left"
          },
          "hovermode": "closest",
          "mapbox": {
           "style": "light"
          },
          "paper_bgcolor": "white",
          "plot_bgcolor": "#E5ECF6",
          "polar": {
           "angularaxis": {
            "gridcolor": "white",
            "linecolor": "white",
            "ticks": ""
           },
           "bgcolor": "#E5ECF6",
           "radialaxis": {
            "gridcolor": "white",
            "linecolor": "white",
            "ticks": ""
           }
          },
          "scene": {
           "xaxis": {
            "backgroundcolor": "#E5ECF6",
            "gridcolor": "white",
            "gridwidth": 2,
            "linecolor": "white",
            "showbackground": true,
            "ticks": "",
            "zerolinecolor": "white"
           },
           "yaxis": {
            "backgroundcolor": "#E5ECF6",
            "gridcolor": "white",
            "gridwidth": 2,
            "linecolor": "white",
            "showbackground": true,
            "ticks": "",
            "zerolinecolor": "white"
           },
           "zaxis": {
            "backgroundcolor": "#E5ECF6",
            "gridcolor": "white",
            "gridwidth": 2,
            "linecolor": "white",
            "showbackground": true,
            "ticks": "",
            "zerolinecolor": "white"
           }
          },
          "shapedefaults": {
           "line": {
            "color": "#2a3f5f"
           }
          },
          "ternary": {
           "aaxis": {
            "gridcolor": "white",
            "linecolor": "white",
            "ticks": ""
           },
           "baxis": {
            "gridcolor": "white",
            "linecolor": "white",
            "ticks": ""
           },
           "bgcolor": "#E5ECF6",
           "caxis": {
            "gridcolor": "white",
            "linecolor": "white",
            "ticks": ""
           }
          },
          "title": {
           "x": 0.05
          },
          "xaxis": {
           "automargin": true,
           "gridcolor": "white",
           "linecolor": "white",
           "ticks": "",
           "title": {
            "standoff": 15
           },
           "zerolinecolor": "white",
           "zerolinewidth": 2
          },
          "yaxis": {
           "automargin": true,
           "gridcolor": "white",
           "linecolor": "white",
           "ticks": "",
           "title": {
            "standoff": 15
           },
           "zerolinecolor": "white",
           "zerolinewidth": 2
          }
         }
        },
        "title": {
         "font": {
          "color": "white",
          "size": 20
         },
         "text": "Quantitative Analysis of resnet18 Model Explanations",
         "x": 0.5,
         "xanchor": "center"
        },
        "width": 700
       }
      }
     },
     "metadata": {},
     "output_type": "display_data"
    }
   ],
   "source": [
    "# Performing dynamic range adjustment based on the data in the DataFrame\n",
    "colors = px.colors.qualitative.Plotly\n",
    "# Calculate the maximum value in the DataFrame for range adjustment\n",
    "max_range = df_normalised_rank.max().max()\n",
    "min_range = df_normalised_rank.min().min() if df_normalised_rank.min().min() < 0 else 0\n",
    "markers = ['circle', 'square', 'diamond', 'cross', 'x', 'triangle-up']  # Different marker types\n",
    "\n",
    "# Update the range dynamically based on the data\n",
    "fig = go.Figure()\n",
    "\n",
    "for i,(table,color,marker) in enumerate(zip(df_normalised_rank.iterrows(), colors, markers)):\n",
    "    index,row=table\n",
    "    r_values = list(row) + [row[0]]\n",
    "    theta_values = list(df_normalised_rank.columns) + [df_normalised_rank.columns[0]]\n",
    "    fig.add_trace(go.Scatterpolar(\n",
    "        r=r_values,\n",
    "        theta=theta_values,\n",
    "        marker=dict(color=color, symbol=marker, size=10),\n",
    "        line=dict(color=color, width=3),\n",
    "        fill='toself',\n",
    "        fillcolor=hex_to_rgba(color,0.05),\n",
    "        name=index\n",
    "    ))\n",
    "\n",
    "fig.update_layout(\n",
    "    polar=dict(\n",
    "        radialaxis=dict(\n",
    "            visible=True,\n",
    "            range=[min_range, max_range + 0.1 * max_range],  # Adding a buffer to the max range\n",
    "            color='grey',\n",
    "            gridcolor='grey',  # Color of the radial grid lines\n",
    "            linecolor='grey'\n",
    "        ),\n",
    "        angularaxis=dict(\n",
    "            gridcolor='white',  # Color of the angular grid lines\n",
    "            linecolor='white'  # Color of the angular axis line\n",
    "        )\n",
    "        ),\n",
    "    showlegend=True,\n",
    "    legend=dict(\n",
    "        orientation=\"h\",\n",
    "        yanchor=\"bottom\",\n",
    "        y=-0.25,\n",
    "        xanchor=\"center\",\n",
    "        x=0.5\n",
    "    ),\n",
    "    width=700,\n",
    "    height=500,\n",
    "    paper_bgcolor='black',  # Set the background color to black\n",
    "    font=dict(color='white'),\n",
    "    title=dict(\n",
    "        text=\"Quantitative Analysis of \" +modeltype+ \" Model Explanations\",  # Replace with your desired title\n",
    "        x=0.5,  # Title alignment (0.5 for center alignment)\n",
    "        xanchor='center',  # Anchor the title at the center\n",
    "        font=dict(\n",
    "            size=20,  # Title font size\n",
    "            color='white'  # Title font color\n",
    "        )\n",
    "    )\n",
    ")\n",
    "\n",
    "fig.write_image(\"./figures/\"+modeltype+\"_radarplot.png\", scale=2,width=700,height=500)\n",
    "\n",
    "fig.show()"
   ]
  },
  {
   "cell_type": "code",
   "execution_count": null,
   "metadata": {},
   "outputs": [],
   "source": []
  }
 ],
 "metadata": {
  "kernelspec": {
   "display_name": "thesis",
   "language": "python",
   "name": "python3"
  },
  "language_info": {
   "codemirror_mode": {
    "name": "ipython",
    "version": 3
   },
   "file_extension": ".py",
   "mimetype": "text/x-python",
   "name": "python",
   "nbconvert_exporter": "python",
   "pygments_lexer": "ipython3",
   "version": "3.11.7"
  }
 },
 "nbformat": 4,
 "nbformat_minor": 2
}
